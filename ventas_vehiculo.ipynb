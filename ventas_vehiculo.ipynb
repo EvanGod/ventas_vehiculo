{
 "cells": [
  {
   "cell_type": "code",
   "execution_count": 27,
   "id": "15857ea6-5796-4110-8eb9-59a791ecdab8",
   "metadata": {},
   "outputs": [
    {
     "name": "stdout",
     "output_type": "stream",
     "text": [
      "   id_venta  id_cliente  id_sucursal  id_vehiculo  id_fecha  id_metodopago  \\\n",
      "0         1        98.0         60.0          3.0       1.0           36.0   \n",
      "1         2        87.0          NaN          7.0      71.0           77.0   \n",
      "2         3         NaN         41.0         14.0      92.0           34.0   \n",
      "3         4        17.0         87.0          NaN      32.0           37.0   \n",
      "4         5        13.0         58.0         19.0      59.0            NaN   \n",
      "\n",
      "   id_empleado  monto_aquiler  cantidad_alquiler  \n",
      "0         27.0       61514.14                 42  \n",
      "1          6.0      152787.22                 14  \n",
      "2         52.0      190180.27                 43  \n",
      "3         17.0       13614.96                  1  \n",
      "4          NaN      178962.38                 22  \n"
     ]
    }
   ],
   "source": [
    "import pandas as pd\n",
    "\n",
    "# Cargar el archivo CSV con los nombres de columnas especificados\n",
    "data = pd.read_csv(r'C:\\Users\\DELL\\ventas_vehiculo.csv')\n",
    "\n",
    "# Revisar las primeras filas\n",
    "print(data.head())\n"
   ]
  },
  {
   "cell_type": "code",
   "execution_count": 28,
   "id": "661fe5f4-b3e9-4c0a-8078-4252a77627d7",
   "metadata": {},
   "outputs": [
    {
     "name": "stdout",
     "output_type": "stream",
     "text": [
      "Duplicados antes de la limpieza: 0\n",
      "Duplicados después de la limpieza: 0\n"
     ]
    }
   ],
   "source": [
    "# Contar duplicados\n",
    "duplicados = data.duplicated().sum()\n",
    "print(f\"Duplicados antes de la limpieza: {duplicados}\")\n",
    "\n",
    "# Eliminar duplicados\n",
    "data_sin_duplicados = data.drop_duplicates()\n",
    "\n",
    "# Contar duplicados después de la limpieza\n",
    "duplicados = data_sin_duplicados.duplicated().sum()\n",
    "print(f\"Duplicados después de la limpieza: {duplicados}\")\n"
   ]
  },
  {
   "cell_type": "code",
   "execution_count": 29,
   "id": "5d8f0ff0-a31c-4426-98df-bf86cd9ddb00",
   "metadata": {},
   "outputs": [
    {
     "name": "stdout",
     "output_type": "stream",
     "text": [
      "Valores faltantes:\n",
      "id_venta               0\n",
      "id_cliente           105\n",
      "id_sucursal          126\n",
      "id_vehiculo          121\n",
      "id_fecha             111\n",
      "id_metodopago        115\n",
      "id_empleado          101\n",
      "monto_aquiler          0\n",
      "cantidad_alquiler      0\n",
      "dtype: int64\n",
      "id_venta             0\n",
      "id_cliente           0\n",
      "id_sucursal          0\n",
      "id_vehiculo          0\n",
      "id_fecha             0\n",
      "id_metodopago        0\n",
      "id_empleado          0\n",
      "monto_aquiler        0\n",
      "cantidad_alquiler    0\n",
      "dtype: int64\n"
     ]
    }
   ],
   "source": [
    "# Verificar valores faltantes\n",
    "valores_faltantes = data_sin_duplicados.isnull().sum()\n",
    "print(f\"Valores faltantes:\\n{valores_faltantes}\")\n",
    "\n",
    "# Reemplazar valores faltantes de monto_alquiler y cantidad_alquiler con 0, y otros con 'Desconocido'\n",
    "data_imputada = data_sin_duplicados.fillna({\n",
    "    'monto_alquiler': 0,\n",
    "    'cantidad_alquiler': 0,\n",
    "    'id_cliente': 'Desconocido',\n",
    "    'id_sucursal': 'Desconocido',\n",
    "    'id_vehiculo': 'Desconocido',\n",
    "    'id_metodopago': 'Desconocido',\n",
    "    'id_empleado': 'Desconocido',\n",
    "    'id_fecha': 'Desconocido'\n",
    "})\n",
    "\n",
    "print(data_imputada.isnull().sum())  # Verificar si aún hay valores faltantes\n"
   ]
  },
  {
   "cell_type": "code",
   "execution_count": 32,
   "id": "68ec6dbc-f224-45dd-a3ff-797736400291",
   "metadata": {},
   "outputs": [
    {
     "name": "stdout",
     "output_type": "stream",
     "text": [
      "Registros después de la validación: 1000\n"
     ]
    }
   ],
   "source": [
    "# Convertir 'monto_aquiler' y 'cantidad_alquiler' a valores numéricos\n",
    "data_imputada['monto_aquiler'] = pd.to_numeric(data_imputada['monto_aquiler'], errors='coerce')\n",
    "data_imputada['cantidad_alquiler'] = pd.to_numeric(data_imputada['cantidad_alquiler'], errors='coerce')\n",
    "\n",
    "# Validar que los valores no sean negativos\n",
    "data_validada = data_imputada[(data_imputada['monto_aquiler'] >= 0) & (data_imputada['cantidad_alquiler'] >= 0)]\n",
    "\n",
    "print(f\"Registros después de la validación: {len(data_validada)}\")\n"
   ]
  },
  {
   "cell_type": "code",
   "execution_count": 36,
   "id": "762691a4-91dc-471f-b833-7414e003bd26",
   "metadata": {},
   "outputs": [
    {
     "name": "stdout",
     "output_type": "stream",
     "text": [
      "Datos de ventas por vehículo guardados en 'ventas_por_vehiculo.csv'\n"
     ]
    }
   ],
   "source": [
    "# Filtrar filas donde 'id_vehiculo' no sea \"Desconocido\"\n",
    "data_validada_filtrada = data_validada[data_validada['id_vehiculo'] != 'Desconocido']\n",
    "\n",
    "# Agrupar por vehículo y sumar el monto total de alquiler y cantidad total alquilada\n",
    "ventas_por_vehiculo = data_validada_filtrada.groupby('id_vehiculo').agg({\n",
    "    'monto_aquiler': 'sum',\n",
    "    'cantidad_alquiler': 'sum'\n",
    "}).reset_index()\n",
    "\n",
    "# Ordenar por el monto total de alquiler de mayor a menor\n",
    "ventas_por_vehiculo = ventas_por_vehiculo.sort_values(by='monto_aquiler', ascending=False)\n",
    "\n",
    "# Guardar el resultado en un archivo CSV\n",
    "ventas_por_vehiculo.to_csv('ventas_por_vehiculo.csv', index=False)\n",
    "\n",
    "print(\"Datos de ventas por vehículo guardados en 'ventas_por_vehiculo.csv'\")\n",
    "\n"
   ]
  },
  {
   "cell_type": "code",
   "execution_count": null,
   "id": "3fb8c1c3-636e-45a0-a8ce-cc6536aa0fdd",
   "metadata": {},
   "outputs": [],
   "source": []
  },
  {
   "cell_type": "code",
   "execution_count": null,
   "id": "e2f58518-b1dc-4d7b-9e54-b235e5b3edde",
   "metadata": {},
   "outputs": [],
   "source": []
  }
 ],
 "metadata": {
  "kernelspec": {
   "display_name": "Python 3 (ipykernel)",
   "language": "python",
   "name": "python3"
  },
  "language_info": {
   "codemirror_mode": {
    "name": "ipython",
    "version": 3
   },
   "file_extension": ".py",
   "mimetype": "text/x-python",
   "name": "python",
   "nbconvert_exporter": "python",
   "pygments_lexer": "ipython3",
   "version": "3.12.1"
  }
 },
 "nbformat": 4,
 "nbformat_minor": 5
}
